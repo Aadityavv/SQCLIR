{
 "cells": [
  {
   "cell_type": "code",
   "execution_count": 1,
   "metadata": {},
   "outputs": [],
   "source": [
    "import pandas as pd\n",
    "import re"
   ]
  },
  {
   "cell_type": "code",
   "execution_count": 5,
   "metadata": {},
   "outputs": [
    {
     "name": "stdout",
     "output_type": "stream",
     "text": [
      "data fetched successfully\n"
     ]
    }
   ],
   "source": [
    "# df = pd.read_csv(\"data\\\\merged_data.csv\", on_bad_lines='skip')\n",
    "df = pd.read_csv(\"data\\\\merged_data.csv\", engine='python', on_bad_lines='skip')\n",
    "print(\"data fetched successfully\")"
   ]
  },
  {
   "cell_type": "code",
   "execution_count": 7,
   "metadata": {},
   "outputs": [
    {
     "name": "stdout",
     "output_type": "stream",
     "text": [
      "New CSV file created successfully\n"
     ]
    }
   ],
   "source": [
    "title_pattern = re.compile(r\"<TITLE>(.*?)</TITLE>\")\n",
    "text_pattern = re.compile(r\"<TEXT>(.*?)</TEXT>\", re.DOTALL)\n",
    "\n",
    "def extract_title_and_text(content):\n",
    "    if isinstance(content, str): \n",
    "        title_match = title_pattern.search(content)\n",
    "        text_match = text_pattern.search(content)\n",
    "    \n",
    "        title = title_match.group(1).strip() if title_match else \"\"\n",
    "        text = text_match.group(1).strip() if text_match else \"\"\n",
    "\n",
    "        return title, text\n",
    "    else:\n",
    "        return \"\", \"\" \n",
    "\n",
    "\n",
    "df['Title'], df['Answer'] = zip(*df['Content'].apply(extract_title_and_text))  # Replace 'your_column' with the actual column name\n",
    "\n",
    "# Save the new DataFrame to a new CSV\n",
    "df[['Title', 'Answer']].to_csv('data\\\\new_csv_file.csv', index=False)\n",
    "\n",
    "print(\"New CSV file created successfully\")"
   ]
  }
 ],
 "metadata": {
  "kernelspec": {
   "display_name": "Python 3",
   "language": "python",
   "name": "python3"
  },
  "language_info": {
   "codemirror_mode": {
    "name": "ipython",
    "version": 3
   },
   "file_extension": ".py",
   "mimetype": "text/x-python",
   "name": "python",
   "nbconvert_exporter": "python",
   "pygments_lexer": "ipython3",
   "version": "3.12.5"
  }
 },
 "nbformat": 4,
 "nbformat_minor": 2
}
